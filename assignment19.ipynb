{
 "cells": [
  {
   "cell_type": "markdown",
   "id": "caf36945-b600-409b-96cc-24d367c764ba",
   "metadata": {},
   "source": [
    "# Ans1-"
   ]
  },
  {
   "cell_type": "markdown",
   "id": "6f9b0a0c-af5e-40af-807b-468e772130ca",
   "metadata": {},
   "source": [
    "Data encoding is the process of converting data one form to another.Often for the purpose of the efficient storage, transformation and processing."
   ]
  },
  {
   "cell_type": "markdown",
   "id": "6002cc6f-597d-4164-b181-3a7050a22bf0",
   "metadata": {},
   "source": [
    "Representation: encoding  data represent in a format way to for suitable for analysis or ml algorithms.\n",
    "\n",
    "Efficency : encoded data can be more compact and the efficient for the storage and transmission.\n",
    "\n",
    "compatibilty means different system use different format for a data.encoding help transforming the data into a common format that can be easily understood and processed across various platform.\n",
    "\n",
    "encoding can be also provide privacy and security.\n",
    "\n"
   ]
  },
  {
   "cell_type": "markdown",
   "id": "b8369cb3-9c0d-4a88-a64f-d941102c7a25",
   "metadata": {},
   "source": [
    "# Ans2-"
   ]
  },
  {
   "cell_type": "markdown",
   "id": "07b7b60e-41f0-43ba-8cbb-4a23f930a521",
   "metadata": {},
   "source": [
    "Nominal encoding is a label encoding means convert categorical data into a numeric values while preserving the distict categries.\n",
    "\n",
    "in nominal encoding each unique category assigned unique integer."
   ]
  },
  {
   "cell_type": "code",
   "execution_count": 3,
   "id": "49e200c3-1136-4d88-81c3-0bbb859ecf6d",
   "metadata": {},
   "outputs": [],
   "source": [
    "# Example in Python using pandas library\n",
    "import pandas as pd\n",
    "\n",
    "# Original data\n",
    "data = {'Color': ['Red', 'Blue', 'Green', 'Red', 'Green']}\n",
    "df = pd.DataFrame(data)\n",
    "\n",
    "# Nominal encoding\n",
    "color_encoding = {'Red': 1, 'Blue': 2, 'Green': 3}\n",
    "df['Color_Encoded'] = df['Color'].map(color_encoding)\n",
    "\n",
    "# Resulting DataFrame\n",
    "\n"
   ]
  },
  {
   "cell_type": "code",
   "execution_count": 4,
   "id": "cec1b80f-0e81-4f74-9307-df7c03d5e5b5",
   "metadata": {},
   "outputs": [
    {
     "data": {
      "text/html": [
       "<div>\n",
       "<style scoped>\n",
       "    .dataframe tbody tr th:only-of-type {\n",
       "        vertical-align: middle;\n",
       "    }\n",
       "\n",
       "    .dataframe tbody tr th {\n",
       "        vertical-align: top;\n",
       "    }\n",
       "\n",
       "    .dataframe thead th {\n",
       "        text-align: right;\n",
       "    }\n",
       "</style>\n",
       "<table border=\"1\" class=\"dataframe\">\n",
       "  <thead>\n",
       "    <tr style=\"text-align: right;\">\n",
       "      <th></th>\n",
       "      <th>Color</th>\n",
       "      <th>Color_Encoded</th>\n",
       "    </tr>\n",
       "  </thead>\n",
       "  <tbody>\n",
       "    <tr>\n",
       "      <th>0</th>\n",
       "      <td>Red</td>\n",
       "      <td>1</td>\n",
       "    </tr>\n",
       "    <tr>\n",
       "      <th>1</th>\n",
       "      <td>Blue</td>\n",
       "      <td>2</td>\n",
       "    </tr>\n",
       "    <tr>\n",
       "      <th>2</th>\n",
       "      <td>Green</td>\n",
       "      <td>3</td>\n",
       "    </tr>\n",
       "    <tr>\n",
       "      <th>3</th>\n",
       "      <td>Red</td>\n",
       "      <td>1</td>\n",
       "    </tr>\n",
       "    <tr>\n",
       "      <th>4</th>\n",
       "      <td>Green</td>\n",
       "      <td>3</td>\n",
       "    </tr>\n",
       "  </tbody>\n",
       "</table>\n",
       "</div>"
      ],
      "text/plain": [
       "   Color  Color_Encoded\n",
       "0    Red              1\n",
       "1   Blue              2\n",
       "2  Green              3\n",
       "3    Red              1\n",
       "4  Green              3"
      ]
     },
     "execution_count": 4,
     "metadata": {},
     "output_type": "execute_result"
    }
   ],
   "source": [
    "df"
   ]
  },
  {
   "cell_type": "markdown",
   "id": "700f2787-07d8-43b5-b81e-afd9559a841c",
   "metadata": {},
   "source": [
    "# Ans3-"
   ]
  },
  {
   "cell_type": "markdown",
   "id": "74c283b2-a517-4e12-91a8-5f0ea916acf7",
   "metadata": {},
   "source": [
    "Nominal encoding is preferred over one-hot encoding when the categorical values have an ordinal relationship, meaning there is a meaningful order or ranking among the categories."
   ]
  },
  {
   "cell_type": "code",
   "execution_count": 6,
   "id": "e97dcd64-4f8b-4003-b622-3ccd8db99ebc",
   "metadata": {},
   "outputs": [
    {
     "name": "stdout",
     "output_type": "stream",
     "text": [
      "     Size  Size_Encoded\n",
      "0   Small             1\n",
      "1  Medium             2\n",
      "2   Large             3\n",
      "3  Medium             2\n",
      "4   Small             1\n"
     ]
    }
   ],
   "source": [
    "# Example in Python using pandas library\n",
    "import pandas as pd\n",
    "\n",
    "# Original data\n",
    "data = {'Size': ['Small', 'Medium', 'Large', 'Medium', 'Small']}\n",
    "df = pd.DataFrame(data)\n",
    "\n",
    "# Nominal encoding for Size\n",
    "size_encoding = {'Small': 1, 'Medium': 2, 'Large': 3}\n",
    "df['Size_Encoded'] = df['Size'].map(size_encoding)\n",
    "\n",
    "# Resulting DataFrame\n",
    "print(df)\n"
   ]
  },
  {
   "cell_type": "markdown",
   "id": "616fbf75-e65f-4539-870f-a90832872bb6",
   "metadata": {},
   "source": [
    "# Ans4-"
   ]
  },
  {
   "cell_type": "code",
   "execution_count": 8,
   "id": "b4fc1847-3e52-4939-8948-09e62d86d465",
   "metadata": {},
   "outputs": [
    {
     "data": {
      "text/html": [
       "<div>\n",
       "<style scoped>\n",
       "    .dataframe tbody tr th:only-of-type {\n",
       "        vertical-align: middle;\n",
       "    }\n",
       "\n",
       "    .dataframe tbody tr th {\n",
       "        vertical-align: top;\n",
       "    }\n",
       "\n",
       "    .dataframe thead th {\n",
       "        text-align: right;\n",
       "    }\n",
       "</style>\n",
       "<table border=\"1\" class=\"dataframe\">\n",
       "  <thead>\n",
       "    <tr style=\"text-align: right;\">\n",
       "      <th></th>\n",
       "      <th>Fruit</th>\n",
       "    </tr>\n",
       "  </thead>\n",
       "  <tbody>\n",
       "    <tr>\n",
       "      <th>0</th>\n",
       "      <td>Apple</td>\n",
       "    </tr>\n",
       "    <tr>\n",
       "      <th>1</th>\n",
       "      <td>Banana</td>\n",
       "    </tr>\n",
       "    <tr>\n",
       "      <th>2</th>\n",
       "      <td>Orange</td>\n",
       "    </tr>\n",
       "    <tr>\n",
       "      <th>3</th>\n",
       "      <td>Banana</td>\n",
       "    </tr>\n",
       "    <tr>\n",
       "      <th>4</th>\n",
       "      <td>Mango</td>\n",
       "    </tr>\n",
       "  </tbody>\n",
       "</table>\n",
       "</div>"
      ],
      "text/plain": [
       "    Fruit\n",
       "0   Apple\n",
       "1  Banana\n",
       "2  Orange\n",
       "3  Banana\n",
       "4   Mango"
      ]
     },
     "execution_count": 8,
     "metadata": {},
     "output_type": "execute_result"
    }
   ],
   "source": [
    "# Example in Python using pandas library\n",
    "import pandas as pd\n",
    "\n",
    "# Original data\n",
    "data = {'Fruit': ['Apple', 'Banana', 'Orange', 'Banana', 'Mango']}\n",
    "df = pd.DataFrame(data)\n",
    "df"
   ]
  },
  {
   "cell_type": "code",
   "execution_count": 9,
   "id": "fb913a58-e650-45e4-b27e-f48786131759",
   "metadata": {},
   "outputs": [
    {
     "data": {
      "text/html": [
       "<div>\n",
       "<style scoped>\n",
       "    .dataframe tbody tr th:only-of-type {\n",
       "        vertical-align: middle;\n",
       "    }\n",
       "\n",
       "    .dataframe tbody tr th {\n",
       "        vertical-align: top;\n",
       "    }\n",
       "\n",
       "    .dataframe thead th {\n",
       "        text-align: right;\n",
       "    }\n",
       "</style>\n",
       "<table border=\"1\" class=\"dataframe\">\n",
       "  <thead>\n",
       "    <tr style=\"text-align: right;\">\n",
       "      <th></th>\n",
       "      <th>Fruit_Apple</th>\n",
       "      <th>Fruit_Banana</th>\n",
       "      <th>Fruit_Mango</th>\n",
       "      <th>Fruit_Orange</th>\n",
       "    </tr>\n",
       "  </thead>\n",
       "  <tbody>\n",
       "    <tr>\n",
       "      <th>0</th>\n",
       "      <td>1</td>\n",
       "      <td>0</td>\n",
       "      <td>0</td>\n",
       "      <td>0</td>\n",
       "    </tr>\n",
       "    <tr>\n",
       "      <th>1</th>\n",
       "      <td>0</td>\n",
       "      <td>1</td>\n",
       "      <td>0</td>\n",
       "      <td>0</td>\n",
       "    </tr>\n",
       "    <tr>\n",
       "      <th>2</th>\n",
       "      <td>0</td>\n",
       "      <td>0</td>\n",
       "      <td>0</td>\n",
       "      <td>1</td>\n",
       "    </tr>\n",
       "    <tr>\n",
       "      <th>3</th>\n",
       "      <td>0</td>\n",
       "      <td>1</td>\n",
       "      <td>0</td>\n",
       "      <td>0</td>\n",
       "    </tr>\n",
       "    <tr>\n",
       "      <th>4</th>\n",
       "      <td>0</td>\n",
       "      <td>0</td>\n",
       "      <td>1</td>\n",
       "      <td>0</td>\n",
       "    </tr>\n",
       "  </tbody>\n",
       "</table>\n",
       "</div>"
      ],
      "text/plain": [
       "   Fruit_Apple  Fruit_Banana  Fruit_Mango  Fruit_Orange\n",
       "0            1             0            0             0\n",
       "1            0             1            0             0\n",
       "2            0             0            0             1\n",
       "3            0             1            0             0\n",
       "4            0             0            1             0"
      ]
     },
     "execution_count": 9,
     "metadata": {},
     "output_type": "execute_result"
    }
   ],
   "source": [
    "# One-hot encoding for Fruit\n",
    "df_encoded = pd.get_dummies(df, columns=['Fruit'], prefix='Fruit')\n",
    "\n",
    "# Resulting DataFrame\n",
    "df_encoded"
   ]
  },
  {
   "cell_type": "markdown",
   "id": "f0ebd16b-4780-4e31-b811-3b8d10f9559e",
   "metadata": {},
   "source": [
    "In this scenario, one-hot encoding is suitable because it avoids introducing any artificial ordinal relationship among the fruits and ensures that the machine learning algorithm treats each fruit category independently."
   ]
  },
  {
   "cell_type": "markdown",
   "id": "cd99c991-03e8-43b1-a587-ab649bd27834",
   "metadata": {},
   "source": [
    "# Ans5-"
   ]
  },
  {
   "cell_type": "markdown",
   "id": "57d713a2-d97d-4523-8618-b07c3294faee",
   "metadata": {},
   "source": [
    "\n",
    "In nominal encoding, each unique category in a categorical variable is assigned a unique integer. Therefore, for each categorical column, the number of new columns created is equal to the number of unique categories minus one (since one category can be represented as a reference)."
   ]
  },
  {
   "cell_type": "markdown",
   "id": "50763911-ec0d-4a76-9492-0f12c76a768c",
   "metadata": {},
   "source": [
    "Number of new columns for the first categorical column 5-1=4\n",
    "\n",
    "Number of new columns for the second categorical column 4-1=3\n"
   ]
  },
  {
   "cell_type": "raw",
   "id": "b4dbafa0-0a55-4ea0-a299-6560e6259a28",
   "metadata": {},
   "source": [
    "Therefore, a total of \n",
    "4\n",
    "+\n",
    "3\n",
    "=\n",
    "7\n",
    "4+3=7 new columns would be created through nominal encoding for the two categorical columns in the dataset.\n",
    "\n",
    "\n",
    "\n"
   ]
  },
  {
   "cell_type": "markdown",
   "id": "e9db6dc0-6aeb-4ff9-902b-1b23aa46f0fb",
   "metadata": {},
   "source": [
    "# Ans6-"
   ]
  },
  {
   "cell_type": "code",
   "execution_count": null,
   "id": "25bc02ab-1389-4be1-a57b-a576b8f1cd05",
   "metadata": {},
   "outputs": [
    {
     "name": "stdout",
     "output_type": "stream",
     "text": [
      "        Diet  Species_Elephant  Species_Giraffe  Species_Lion  Species_Tiger  \\\n",
      "0  Carnivore                 0                0             1              0   \n",
      "1  Herbivore                 1                0             0              0   \n",
      "2  Herbivore                 0                1             0              0   \n",
      "3  Carnivore                 0                0             0              1   \n",
      "\n",
      "   Habitat_Jungle  Habitat_Savannah  Habitat_Zoo  Diet_Encoded  \n",
      "0               1                 0            0             3  \n",
      "1               0                 1            0             1  \n",
      "2               0                 0            1             1  \n",
      "3               1                 0            0             3  \n"
     ]
    }
   ],
   "source": [
    "import pandas as pd\n",
    "\n",
    "# Original data\n",
    "data = {'Species': ['Lion', 'Elephant', 'Giraffe', 'Tiger'],\n",
    "        'Habitat': ['Jungle', 'Savannah', 'Zoo', 'Jungle'],\n",
    "        'Diet': ['Carnivore', 'Herbivore', 'Herbivore', 'Carnivore']}\n",
    "df = pd.DataFrame(data)\n",
    "\n",
    "# One-hot encoding for nominal variables (Species, Habitat)\n",
    "df_encoded = pd.get_dummies(df, columns=['Species', 'Habitat'], prefix=['Species', 'Habitat'])\n",
    "\n",
    "# Label encoding for ordinal variable (Diet)\n",
    "diet_encoding = {'Herbivore': 1, 'Omnivore': 2, 'Carnivore': 3}\n",
    "df_encoded['Diet_Encoded'] = df['Diet'].map(diet_encoding)\n",
    "\n",
    "# Resulting DataFrame\n",
    "print(df_encoded)\n"
   ]
  },
  {
   "cell_type": "markdown",
   "id": "bc3dadb1-b5a8-4f59-8143-441605c12254",
   "metadata": {},
   "source": [
    "# Ans7-"
   ]
  },
  {
   "cell_type": "markdown",
   "id": "8d7d34b0-6e72-460e-889b-82fa312cabbb",
   "metadata": {},
   "source": [
    "In the context of predicting customer churn for a telecommunications company, you would likely encounter categorical variables such as \"gender\" and \"contract type.\" Here's a step-by-step explanation of how you could encode these categorical variables into numerical data using one-hot encoding and label encoding:"
   ]
  },
  {
   "cell_type": "markdown",
   "id": "a02b19e6-d9d6-490b-adb4-c7832ec24eda",
   "metadata": {},
   "source": [
    "One-Hot Encoding for Nominal Variables:\n",
    "\n",
    "Variables: Gender and Contract Type are likely nominal variables with no inherent order.\n",
    "Implementation:\n",
    "For \"gender,\" create two binary columns: \"Male\" and \"Female.\"\n",
    "For \"contract type,\" create binary columns for each category: \"Month-to-month,\" \"One year,\" \"Two years.\""
   ]
  },
  {
   "cell_type": "code",
   "execution_count": 12,
   "id": "83726210-96f8-40a3-8c83-9a44da263003",
   "metadata": {},
   "outputs": [
    {
     "name": "stdout",
     "output_type": "stream",
     "text": [
      "   Age  Monthly_Charges  Tenure  Gender_Female  Gender_Male  \\\n",
      "0   30             50.0      12              0            1   \n",
      "1   40             65.0      24              1            0   \n",
      "2   35             55.0       6              0            1   \n",
      "3   50             75.0      36              1            0   \n",
      "\n",
      "   Contract_Type_Month-to-month  Contract_Type_One year  \\\n",
      "0                             1                       0   \n",
      "1                             0                       1   \n",
      "2                             1                       0   \n",
      "3                             0                       0   \n",
      "\n",
      "   Contract_Type_Two years  \n",
      "0                        0  \n",
      "1                        0  \n",
      "2                        0  \n",
      "3                        1  \n"
     ]
    }
   ],
   "source": [
    "import pandas as pd\n",
    "\n",
    "# Original data\n",
    "data = {'Gender': ['Male', 'Female', 'Male', 'Female'],\n",
    "        'Contract_Type': ['Month-to-month', 'One year', 'Month-to-month', 'Two years'],\n",
    "        'Age': [30, 40, 35, 50],\n",
    "        'Monthly_Charges': [50.0, 65.0, 55.0, 75.0],\n",
    "        'Tenure': [12, 24, 6, 36]}\n",
    "\n",
    "df = pd.DataFrame(data)\n",
    "\n",
    "# One-hot encoding for nominal variables (Gender, Contract Type)\n",
    "df_encoded = pd.get_dummies(df, columns=['Gender', 'Contract_Type'], prefix=['Gender', 'Contract_Type'])\n",
    "\n",
    "# Resulting DataFrame\n",
    "print(df_encoded)\n"
   ]
  },
  {
   "cell_type": "markdown",
   "id": "f0742964-d444-46cf-9196-cae66c5ee8e6",
   "metadata": {},
   "source": [
    "2-Label Encoding for Ordinal Variables:\n",
    "\n",
    "Variables: None of the remaining variables (Age, Monthly Charges, Tenure) seem ordinal. They are numerical and can be used as they are.\n",
    "Implementation: No specific encoding needed for these variables."
   ]
  },
  {
   "cell_type": "code",
   "execution_count": null,
   "id": "664af373-2806-40ac-932c-2c2de9dd33a1",
   "metadata": {},
   "outputs": [],
   "source": []
  }
 ],
 "metadata": {
  "kernelspec": {
   "display_name": "Python 3 (ipykernel)",
   "language": "python",
   "name": "python3"
  },
  "language_info": {
   "codemirror_mode": {
    "name": "ipython",
    "version": 3
   },
   "file_extension": ".py",
   "mimetype": "text/x-python",
   "name": "python",
   "nbconvert_exporter": "python",
   "pygments_lexer": "ipython3",
   "version": "3.10.8"
  }
 },
 "nbformat": 4,
 "nbformat_minor": 5
}
